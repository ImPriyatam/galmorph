{
 "cells": [
  {
   "cell_type": "code",
   "execution_count": 33,
   "id": "85233a0e",
   "metadata": {},
   "outputs": [],
   "source": [
    "import pandas as pd\n",
    "import matplotlib.pyplot as plt\n"
   ]
  },
  {
   "cell_type": "code",
   "execution_count": 23,
   "id": "c27350ab",
   "metadata": {},
   "outputs": [
    {
     "name": "stdout",
     "output_type": "stream",
     "text": [
      "Snapshot        int16\n",
      "P_Disk        float32\n",
      "P_Irr         float32\n",
      "P_Spheroid    float32\n",
      "SubhaloID       int32\n",
      "dtype: object\n",
      "Index(['Snapshot', 'P_Disk', 'P_Irr', 'P_Spheroid', 'SubhaloID'], dtype='object')\n"
     ]
    }
   ],
   "source": [
    "df_loaded = pd.read_pickle(\"morphologies_snapshot_data.pkl\")\n",
    "# df_loaded = pd.read_csv(\"galaxies_morph.csv\")\n",
    "print(df_loaded.dtypes)\n",
    "print(df_loaded.columns)\n"
   ]
  },
  {
   "cell_type": "code",
   "execution_count": 8,
   "id": "dcdecb0a",
   "metadata": {},
   "outputs": [
    {
     "data": {
      "text/html": [
       "<div>\n",
       "<style scoped>\n",
       "    .dataframe tbody tr th:only-of-type {\n",
       "        vertical-align: middle;\n",
       "    }\n",
       "\n",
       "    .dataframe tbody tr th {\n",
       "        vertical-align: top;\n",
       "    }\n",
       "\n",
       "    .dataframe thead th {\n",
       "        text-align: right;\n",
       "    }\n",
       "</style>\n",
       "<table border=\"1\" class=\"dataframe\">\n",
       "  <thead>\n",
       "    <tr style=\"text-align: right;\">\n",
       "      <th></th>\n",
       "      <th>Snapshot</th>\n",
       "      <th>P_Disk</th>\n",
       "      <th>P_Irr</th>\n",
       "      <th>P_Spheroid</th>\n",
       "      <th>SubhaloID</th>\n",
       "    </tr>\n",
       "  </thead>\n",
       "  <tbody>\n",
       "    <tr>\n",
       "      <th>0</th>\n",
       "      <td>25</td>\n",
       "      <td>7.245970e-02</td>\n",
       "      <td>0.117432</td>\n",
       "      <td>0.722801</td>\n",
       "      <td>0</td>\n",
       "    </tr>\n",
       "    <tr>\n",
       "      <th>1</th>\n",
       "      <td>25</td>\n",
       "      <td>5.781485e-01</td>\n",
       "      <td>0.998808</td>\n",
       "      <td>0.005097</td>\n",
       "      <td>1</td>\n",
       "    </tr>\n",
       "    <tr>\n",
       "      <th>2</th>\n",
       "      <td>25</td>\n",
       "      <td>4.213989e-03</td>\n",
       "      <td>0.956770</td>\n",
       "      <td>0.000231</td>\n",
       "      <td>2</td>\n",
       "    </tr>\n",
       "    <tr>\n",
       "      <th>3</th>\n",
       "      <td>25</td>\n",
       "      <td>1.822633e-07</td>\n",
       "      <td>0.940426</td>\n",
       "      <td>0.000151</td>\n",
       "      <td>3</td>\n",
       "    </tr>\n",
       "    <tr>\n",
       "      <th>4</th>\n",
       "      <td>25</td>\n",
       "      <td>2.275765e-03</td>\n",
       "      <td>0.683999</td>\n",
       "      <td>0.009307</td>\n",
       "      <td>4</td>\n",
       "    </tr>\n",
       "    <tr>\n",
       "      <th>...</th>\n",
       "      <td>...</td>\n",
       "      <td>...</td>\n",
       "      <td>...</td>\n",
       "      <td>...</td>\n",
       "      <td>...</td>\n",
       "    </tr>\n",
       "    <tr>\n",
       "      <th>11042</th>\n",
       "      <td>67</td>\n",
       "      <td>1.095557e-02</td>\n",
       "      <td>0.036651</td>\n",
       "      <td>0.673602</td>\n",
       "      <td>682369</td>\n",
       "    </tr>\n",
       "    <tr>\n",
       "      <th>11043</th>\n",
       "      <td>67</td>\n",
       "      <td>6.801021e-01</td>\n",
       "      <td>0.075180</td>\n",
       "      <td>0.808437</td>\n",
       "      <td>695842</td>\n",
       "    </tr>\n",
       "    <tr>\n",
       "      <th>11044</th>\n",
       "      <td>67</td>\n",
       "      <td>9.071031e-01</td>\n",
       "      <td>0.472021</td>\n",
       "      <td>0.525315</td>\n",
       "      <td>700971</td>\n",
       "    </tr>\n",
       "    <tr>\n",
       "      <th>11045</th>\n",
       "      <td>67</td>\n",
       "      <td>5.779260e-01</td>\n",
       "      <td>0.255193</td>\n",
       "      <td>0.776309</td>\n",
       "      <td>717138</td>\n",
       "    </tr>\n",
       "    <tr>\n",
       "      <th>11046</th>\n",
       "      <td>67</td>\n",
       "      <td>5.134141e-01</td>\n",
       "      <td>0.368902</td>\n",
       "      <td>0.722207</td>\n",
       "      <td>765688</td>\n",
       "    </tr>\n",
       "  </tbody>\n",
       "</table>\n",
       "<p>11047 rows × 5 columns</p>\n",
       "</div>"
      ],
      "text/plain": [
       "       Snapshot        P_Disk     P_Irr  P_Spheroid  SubhaloID\n",
       "0            25  7.245970e-02  0.117432    0.722801          0\n",
       "1            25  5.781485e-01  0.998808    0.005097          1\n",
       "2            25  4.213989e-03  0.956770    0.000231          2\n",
       "3            25  1.822633e-07  0.940426    0.000151          3\n",
       "4            25  2.275765e-03  0.683999    0.009307          4\n",
       "...         ...           ...       ...         ...        ...\n",
       "11042        67  1.095557e-02  0.036651    0.673602     682369\n",
       "11043        67  6.801021e-01  0.075180    0.808437     695842\n",
       "11044        67  9.071031e-01  0.472021    0.525315     700971\n",
       "11045        67  5.779260e-01  0.255193    0.776309     717138\n",
       "11046        67  5.134141e-01  0.368902    0.722207     765688\n",
       "\n",
       "[11047 rows x 5 columns]"
      ]
     },
     "execution_count": 8,
     "metadata": {},
     "output_type": "execute_result"
    }
   ],
   "source": [
    "df_loaded\n"
   ]
  },
  {
   "cell_type": "code",
   "execution_count": 29,
   "id": "bc99a7a6",
   "metadata": {},
   "outputs": [
    {
     "data": {
      "text/plain": [
       "[25, 29, 33, 40, 50, 67]"
      ]
     },
     "execution_count": 29,
     "metadata": {},
     "output_type": "execute_result"
    }
   ],
   "source": [
    "snapshot_values = df_loaded[\"Snapshot\"].drop_duplicates().to_list()\n",
    "snapshot_values\n"
   ]
  },
  {
   "cell_type": "code",
   "execution_count": 32,
   "id": "8ca42f97",
   "metadata": {},
   "outputs": [
    {
     "name": "stdout",
     "output_type": "stream",
     "text": [
      "25 : 837\n",
      "29 : 1212\n",
      "33 : 1587\n",
      "40 : 2014\n",
      "50 : 2474\n",
      "67 : 2923\n"
     ]
    }
   ],
   "source": [
    "galaxies_count = []\n",
    "for val in snapshot_values:\n",
    "    print(val, \":\", df_loaded[df_loaded[\"Snapshot\"]==val].shape[0])\n",
    "    galaxies_count.append(df_loaded[df_loaded[\"Snapshot\"]==val].shape[0])\n"
   ]
  },
  {
   "cell_type": "code",
   "execution_count": 34,
   "id": "35c90260",
   "metadata": {},
   "outputs": [
    {
     "data": {
      "image/png": "[encoded data removed]",
      "text/plain": [
       "<Figure size 640x480 with 1 Axes>"
      ]
     },
     "metadata": {},
     "output_type": "display_data"
    }
   ],
   "source": [
    "plt.plot(snapshot_values, galaxies_count)\n",
    "plt.show()\n"
   ]
  },
  {
   "cell_type": "code",
   "execution_count": null,
   "id": "25a6f1f3",
   "metadata": {},
   "outputs": [],
   "source": [
    "galmorph.galaxy_type(snapshot_values)\n"
   ]
  },
  {
   "cell_type": "code",
   "execution_count": null,
   "id": "9e6c7b43",
   "metadata": {},
   "outputs": [],
   "source": [
    "\n",
    "def assign_galaxy_type(row) -> str:\n",
    "    \"\"\"\n",
    "    Assigns a galaxy type based on the highest value among three input columns.\n",
    "\n",
    "    Parameters:\n",
    "        row (pd.Series): A row from a DataFrame.\n",
    "        col_elliptical (str): Column name for elliptical score/value.\n",
    "        col_spiral (str): Column name for spiral score/value.\n",
    "        col_irregular (str): Column name for irregular score/value.\n",
    "\n",
    "    Returns:\n",
    "        str: 'elliptical', 'spiral', or 'irregular' depending on which value is highest.\n",
    "    \"\"\"\n",
    "    values = {\n",
    "        'elliptical': row[\"P_Spheroid\"],\n",
    "        'spiral': row[\"P_Disk\"],\n",
    "        'irregular': row[\"P_Irr\"]\n",
    "    }\n",
    "    return max(values, key=values.get)\n"
   ]
  },
  {
   "cell_type": "code",
   "execution_count": 38,
   "id": "9d708312",
   "metadata": {},
   "outputs": [
    {
     "data": {
      "text/plain": [
       "'elliptical'"
      ]
     },
     "execution_count": 38,
     "metadata": {},
     "output_type": "execute_result"
    }
   ],
   "source": [
    "assign_galaxy_type(df_loaded.iloc[0])\n"
   ]
  },
  {
   "cell_type": "code",
   "execution_count": 40,
   "id": "fb40523d",
   "metadata": {},
   "outputs": [],
   "source": [
    "df_loaded[\"Galaxy_type\"] = df_loaded.apply(assign_galaxy_type, axis=1)\n"
   ]
  },
  {
   "cell_type": "code",
   "execution_count": null,
   "id": "aa5edf28",
   "metadata": {},
   "outputs": [
    {
     "data": {
      "text/html": [
       "<div>\n",
       "<style scoped>\n",
       "    .dataframe tbody tr th:only-of-type {\n",
       "        vertical-align: middle;\n",
       "    }\n",
       "\n",
       "    .dataframe tbody tr th {\n",
       "        vertical-align: top;\n",
       "    }\n",
       "\n",
       "    .dataframe thead th {\n",
       "        text-align: right;\n",
       "    }\n",
       "</style>\n",
       "<table border=\"1\" class=\"dataframe\">\n",
       "  <thead>\n",
       "    <tr style=\"text-align: right;\">\n",
       "      <th></th>\n",
       "      <th>Snapshot</th>\n",
       "      <th>P_Disk</th>\n",
       "      <th>P_Irr</th>\n",
       "      <th>P_Spheroid</th>\n",
       "      <th>SubhaloID</th>\n",
       "      <th>Galaxy_type</th>\n",
       "    </tr>\n",
       "  </thead>\n",
       "  <tbody>\n",
       "    <tr>\n",
       "      <th>0</th>\n",
       "      <td>25</td>\n",
       "      <td>7.245970e-02</td>\n",
       "      <td>0.117432</td>\n",
       "      <td>0.722801</td>\n",
       "      <td>0</td>\n",
       "      <td>elliptical</td>\n",
       "    </tr>\n",
       "    <tr>\n",
       "      <th>1</th>\n",
       "      <td>25</td>\n",
       "      <td>5.781485e-01</td>\n",
       "      <td>0.998808</td>\n",
       "      <td>0.005097</td>\n",
       "      <td>1</td>\n",
       "      <td>irregular</td>\n",
       "    </tr>\n",
       "    <tr>\n",
       "      <th>2</th>\n",
       "      <td>25</td>\n",
       "      <td>4.213989e-03</td>\n",
       "      <td>0.956770</td>\n",
       "      <td>0.000231</td>\n",
       "      <td>2</td>\n",
       "      <td>irregular</td>\n",
       "    </tr>\n",
       "    <tr>\n",
       "      <th>3</th>\n",
       "      <td>25</td>\n",
       "      <td>1.822633e-07</td>\n",
       "      <td>0.940426</td>\n",
       "      <td>0.000151</td>\n",
       "      <td>3</td>\n",
       "      <td>irregular</td>\n",
       "    </tr>\n",
       "    <tr>\n",
       "      <th>4</th>\n",
       "      <td>25</td>\n",
       "      <td>2.275765e-03</td>\n",
       "      <td>0.683999</td>\n",
       "      <td>0.009307</td>\n",
       "      <td>4</td>\n",
       "      <td>irregular</td>\n",
       "    </tr>\n",
       "    <tr>\n",
       "      <th>...</th>\n",
       "      <td>...</td>\n",
       "      <td>...</td>\n",
       "      <td>...</td>\n",
       "      <td>...</td>\n",
       "      <td>...</td>\n",
       "      <td>...</td>\n",
       "    </tr>\n",
       "    <tr>\n",
       "      <th>11042</th>\n",
       "      <td>67</td>\n",
       "      <td>1.095557e-02</td>\n",
       "      <td>0.036651</td>\n",
       "      <td>0.673602</td>\n",
       "      <td>682369</td>\n",
       "      <td>elliptical</td>\n",
       "    </tr>\n",
       "    <tr>\n",
       "      <th>11043</th>\n",
       "      <td>67</td>\n",
       "      <td>6.801021e-01</td>\n",
       "      <td>0.075180</td>\n",
       "      <td>0.808437</td>\n",
       "      <td>695842</td>\n",
       "      <td>elliptical</td>\n",
       "    </tr>\n",
       "    <tr>\n",
       "      <th>11044</th>\n",
       "      <td>67</td>\n",
       "      <td>9.071031e-01</td>\n",
       "      <td>0.472021</td>\n",
       "      <td>0.525315</td>\n",
       "      <td>700971</td>\n",
       "      <td>spiral</td>\n",
       "    </tr>\n",
       "    <tr>\n",
       "      <th>11045</th>\n",
       "      <td>67</td>\n",
       "      <td>5.779260e-01</td>\n",
       "      <td>0.255193</td>\n",
       "      <td>0.776309</td>\n",
       "      <td>717138</td>\n",
       "      <td>elliptical</td>\n",
       "    </tr>\n",
       "    <tr>\n",
       "      <th>11046</th>\n",
       "      <td>67</td>\n",
       "      <td>5.134141e-01</td>\n",
       "      <td>0.368902</td>\n",
       "      <td>0.722207</td>\n",
       "      <td>765688</td>\n",
       "      <td>elliptical</td>\n",
       "    </tr>\n",
       "  </tbody>\n",
       "</table>\n",
       "<p>11047 rows × 6 columns</p>\n",
       "</div>"
      ],
      "text/plain": [
       "       Snapshot        P_Disk     P_Irr  P_Spheroid  SubhaloID Galaxy_type\n",
       "0            25  7.245970e-02  0.117432    0.722801          0  elliptical\n",
       "1            25  5.781485e-01  0.998808    0.005097          1   irregular\n",
       "2            25  4.213989e-03  0.956770    0.000231          2   irregular\n",
       "3            25  1.822633e-07  0.940426    0.000151          3   irregular\n",
       "4            25  2.275765e-03  0.683999    0.009307          4   irregular\n",
       "...         ...           ...       ...         ...        ...         ...\n",
       "11042        67  1.095557e-02  0.036651    0.673602     682369  elliptical\n",
       "11043        67  6.801021e-01  0.075180    0.808437     695842  elliptical\n",
       "11044        67  9.071031e-01  0.472021    0.525315     700971      spiral\n",
       "11045        67  5.779260e-01  0.255193    0.776309     717138  elliptical\n",
       "11046        67  5.134141e-01  0.368902    0.722207     765688  elliptical\n",
       "\n",
       "[11047 rows x 6 columns]"
      ]
     },
     "execution_count": 41,
     "metadata": {},
     "output_type": "execute_result"
    }
   ],
   "source": [
    "df_loaded\n"
   ]
  },
  {
   "cell_type": "code",
   "execution_count": 49,
   "id": "1d9d910c",
   "metadata": {},
   "outputs": [
    {
     "name": "stdout",
     "output_type": "stream",
     "text": [
      "0.01684477925300598\n",
      "0.9083166122436523\n"
     ]
    }
   ],
   "source": [
    "print(min((df_loaded[df_loaded[\"Galaxy_type\"] == \"elliptical\"].reset_index())[\"P_Spheroid\"]))\n",
    "\n",
    "print(max((df_loaded[df_loaded[\"Galaxy_type\"] == \"elliptical\"].reset_index())[\"P_Spheroid\"]))\n"
   ]
  },
  {
   "cell_type": "code",
   "execution_count": 55,
   "id": "f9de8d7e",
   "metadata": {},
   "outputs": [
    {
     "data": {
      "text/plain": [
       "np.int64(8947)"
      ]
     },
     "execution_count": 55,
     "metadata": {},
     "output_type": "execute_result"
    }
   ],
   "source": [
    "min_index= (df_loaded[df_loaded[\"Galaxy_type\"] == \"elliptical\"]).loc[:,\"P_Spheroid\"].idxmin()\n",
    "min_index\n"
   ]
  },
  {
   "cell_type": "code",
   "execution_count": 56,
   "id": "2700741e",
   "metadata": {},
   "outputs": [
    {
     "data": {
      "text/plain": [
       "Snapshot               67\n",
       "P_Disk           0.000002\n",
       "P_Irr             0.01199\n",
       "P_Spheroid       0.016845\n",
       "SubhaloID          279689\n",
       "Galaxy_type    elliptical\n",
       "Name: 8947, dtype: object"
      ]
     },
     "execution_count": 56,
     "metadata": {},
     "output_type": "execute_result"
    }
   ],
   "source": [
    "df_loaded.iloc[min_index]\n"
   ]
  },
  {
   "cell_type": "code",
   "execution_count": 43,
   "id": "94787769",
   "metadata": {},
   "outputs": [
    {
     "name": "stderr",
     "output_type": "stream",
     "text": [
      "/tmp/ipykernel_134992/1153019592.py:1: UserWarning: Boolean Series key will be reindexed to match DataFrame index.\n",
      "  df_loaded[df_loaded[\"Snapshot\"]== 67][df_loaded[\"Galaxy_type\"] == \"elliptical\"].reset_index()\n"
     ]
    },
    {
     "data": {
      "text/html": [
       "<div>\n",
       "<style scoped>\n",
       "    .dataframe tbody tr th:only-of-type {\n",
       "        vertical-align: middle;\n",
       "    }\n",
       "\n",
       "    .dataframe tbody tr th {\n",
       "        vertical-align: top;\n",
       "    }\n",
       "\n",
       "    .dataframe thead th {\n",
       "        text-align: right;\n",
       "    }\n",
       "</style>\n",
       "<table border=\"1\" class=\"dataframe\">\n",
       "  <thead>\n",
       "    <tr style=\"text-align: right;\">\n",
       "      <th></th>\n",
       "      <th>index</th>\n",
       "      <th>Snapshot</th>\n",
       "      <th>P_Disk</th>\n",
       "      <th>P_Irr</th>\n",
       "      <th>P_Spheroid</th>\n",
       "      <th>SubhaloID</th>\n",
       "      <th>Galaxy_type</th>\n",
       "    </tr>\n",
       "  </thead>\n",
       "  <tbody>\n",
       "    <tr>\n",
       "      <th>0</th>\n",
       "      <td>8124</td>\n",
       "      <td>67</td>\n",
       "      <td>0.332089</td>\n",
       "      <td>0.311070</td>\n",
       "      <td>0.650227</td>\n",
       "      <td>0</td>\n",
       "      <td>elliptical</td>\n",
       "    </tr>\n",
       "    <tr>\n",
       "      <th>1</th>\n",
       "      <td>8128</td>\n",
       "      <td>67</td>\n",
       "      <td>0.510369</td>\n",
       "      <td>0.080988</td>\n",
       "      <td>0.702057</td>\n",
       "      <td>4</td>\n",
       "      <td>elliptical</td>\n",
       "    </tr>\n",
       "    <tr>\n",
       "      <th>2</th>\n",
       "      <td>8129</td>\n",
       "      <td>67</td>\n",
       "      <td>0.370965</td>\n",
       "      <td>0.091346</td>\n",
       "      <td>0.751807</td>\n",
       "      <td>5</td>\n",
       "      <td>elliptical</td>\n",
       "    </tr>\n",
       "    <tr>\n",
       "      <th>3</th>\n",
       "      <td>8131</td>\n",
       "      <td>67</td>\n",
       "      <td>0.261759</td>\n",
       "      <td>0.056441</td>\n",
       "      <td>0.803335</td>\n",
       "      <td>7</td>\n",
       "      <td>elliptical</td>\n",
       "    </tr>\n",
       "    <tr>\n",
       "      <th>4</th>\n",
       "      <td>8134</td>\n",
       "      <td>67</td>\n",
       "      <td>0.437897</td>\n",
       "      <td>0.069527</td>\n",
       "      <td>0.515960</td>\n",
       "      <td>10</td>\n",
       "      <td>elliptical</td>\n",
       "    </tr>\n",
       "    <tr>\n",
       "      <th>...</th>\n",
       "      <td>...</td>\n",
       "      <td>...</td>\n",
       "      <td>...</td>\n",
       "      <td>...</td>\n",
       "      <td>...</td>\n",
       "      <td>...</td>\n",
       "      <td>...</td>\n",
       "    </tr>\n",
       "    <tr>\n",
       "      <th>631</th>\n",
       "      <td>11040</td>\n",
       "      <td>67</td>\n",
       "      <td>0.239825</td>\n",
       "      <td>0.039993</td>\n",
       "      <td>0.613430</td>\n",
       "      <td>673929</td>\n",
       "      <td>elliptical</td>\n",
       "    </tr>\n",
       "    <tr>\n",
       "      <th>632</th>\n",
       "      <td>11042</td>\n",
       "      <td>67</td>\n",
       "      <td>0.010956</td>\n",
       "      <td>0.036651</td>\n",
       "      <td>0.673602</td>\n",
       "      <td>682369</td>\n",
       "      <td>elliptical</td>\n",
       "    </tr>\n",
       "    <tr>\n",
       "      <th>633</th>\n",
       "      <td>11043</td>\n",
       "      <td>67</td>\n",
       "      <td>0.680102</td>\n",
       "      <td>0.075180</td>\n",
       "      <td>0.808437</td>\n",
       "      <td>695842</td>\n",
       "      <td>elliptical</td>\n",
       "    </tr>\n",
       "    <tr>\n",
       "      <th>634</th>\n",
       "      <td>11045</td>\n",
       "      <td>67</td>\n",
       "      <td>0.577926</td>\n",
       "      <td>0.255193</td>\n",
       "      <td>0.776309</td>\n",
       "      <td>717138</td>\n",
       "      <td>elliptical</td>\n",
       "    </tr>\n",
       "    <tr>\n",
       "      <th>635</th>\n",
       "      <td>11046</td>\n",
       "      <td>67</td>\n",
       "      <td>0.513414</td>\n",
       "      <td>0.368902</td>\n",
       "      <td>0.722207</td>\n",
       "      <td>765688</td>\n",
       "      <td>elliptical</td>\n",
       "    </tr>\n",
       "  </tbody>\n",
       "</table>\n",
       "<p>636 rows × 7 columns</p>\n",
       "</div>"
      ],
      "text/plain": [
       "     index  Snapshot    P_Disk     P_Irr  P_Spheroid  SubhaloID Galaxy_type\n",
       "0     8124        67  0.332089  0.311070    0.650227          0  elliptical\n",
       "1     8128        67  0.510369  0.080988    0.702057          4  elliptical\n",
       "2     8129        67  0.370965  0.091346    0.751807          5  elliptical\n",
       "3     8131        67  0.261759  0.056441    0.803335          7  elliptical\n",
       "4     8134        67  0.437897  0.069527    0.515960         10  elliptical\n",
       "..     ...       ...       ...       ...         ...        ...         ...\n",
       "631  11040        67  0.239825  0.039993    0.613430     673929  elliptical\n",
       "632  11042        67  0.010956  0.036651    0.673602     682369  elliptical\n",
       "633  11043        67  0.680102  0.075180    0.808437     695842  elliptical\n",
       "634  11045        67  0.577926  0.255193    0.776309     717138  elliptical\n",
       "635  11046        67  0.513414  0.368902    0.722207     765688  elliptical\n",
       "\n",
       "[636 rows x 7 columns]"
      ]
     },
     "execution_count": 43,
     "metadata": {},
     "output_type": "execute_result"
    }
   ],
   "source": [
    "df_loaded[df_loaded[\"Snapshot\"]== 67][df_loaded[\"Galaxy_type\"] == \"elliptical\"].reset_index()\n"
   ]
  },
  {
   "cell_type": "code",
   "execution_count": null,
   "id": "2f5b6645",
   "metadata": {},
   "outputs": [
    {
     "data": {
      "text/html": [
       "<div>\n",
       "<style scoped>\n",
       "    .dataframe tbody tr th:only-of-type {\n",
       "        vertical-align: middle;\n",
       "    }\n",
       "\n",
       "    .dataframe tbody tr th {\n",
       "        vertical-align: top;\n",
       "    }\n",
       "\n",
       "    .dataframe thead th {\n",
       "        text-align: right;\n",
       "    }\n",
       "</style>\n",
       "<table border=\"1\" class=\"dataframe\">\n",
       "  <thead>\n",
       "    <tr style=\"text-align: right;\">\n",
       "      <th></th>\n",
       "      <th>Snapshot</th>\n",
       "      <th>P_Disk</th>\n",
       "      <th>P_Irr</th>\n",
       "      <th>P_Spheroid</th>\n",
       "      <th>SubhaloID</th>\n",
       "    </tr>\n",
       "  </thead>\n",
       "  <tbody>\n",
       "    <tr>\n",
       "      <th>5</th>\n",
       "      <td>25</td>\n",
       "      <td>0.176502</td>\n",
       "      <td>0.808699</td>\n",
       "      <td>0.001593</td>\n",
       "      <td>5</td>\n",
       "    </tr>\n",
       "    <tr>\n",
       "      <th>842</th>\n",
       "      <td>29</td>\n",
       "      <td>0.579392</td>\n",
       "      <td>0.497376</td>\n",
       "      <td>0.000832</td>\n",
       "      <td>5</td>\n",
       "    </tr>\n",
       "    <tr>\n",
       "      <th>2054</th>\n",
       "      <td>33</td>\n",
       "      <td>0.602546</td>\n",
       "      <td>0.970885</td>\n",
       "      <td>0.005325</td>\n",
       "      <td>5</td>\n",
       "    </tr>\n",
       "    <tr>\n",
       "      <th>3641</th>\n",
       "      <td>40</td>\n",
       "      <td>0.692633</td>\n",
       "      <td>0.950574</td>\n",
       "      <td>0.006378</td>\n",
       "      <td>5</td>\n",
       "    </tr>\n",
       "    <tr>\n",
       "      <th>5655</th>\n",
       "      <td>50</td>\n",
       "      <td>0.300213</td>\n",
       "      <td>0.088920</td>\n",
       "      <td>0.571605</td>\n",
       "      <td>5</td>\n",
       "    </tr>\n",
       "    <tr>\n",
       "      <th>8129</th>\n",
       "      <td>67</td>\n",
       "      <td>0.370965</td>\n",
       "      <td>0.091346</td>\n",
       "      <td>0.751807</td>\n",
       "      <td>5</td>\n",
       "    </tr>\n",
       "  </tbody>\n",
       "</table>\n",
       "</div>"
      ],
      "text/plain": [
       "      Snapshot    P_Disk     P_Irr  P_Spheroid  SubhaloID\n",
       "5           25  0.176502  0.808699    0.001593          5\n",
       "842         29  0.579392  0.497376    0.000832          5\n",
       "2054        33  0.602546  0.970885    0.005325          5\n",
       "3641        40  0.692633  0.950574    0.006378          5\n",
       "5655        50  0.300213  0.088920    0.571605          5\n",
       "8129        67  0.370965  0.091346    0.751807          5"
      ]
     },
     "execution_count": 25,
     "metadata": {},
     "output_type": "execute_result"
    }
   ],
   "source": [
    "df_loaded[df_loaded[\"Snapshot\"]]\n"
   ]
  },
  {
   "cell_type": "code",
   "execution_count": 36,
   "id": "14fc31e5",
   "metadata": {},
   "outputs": [
    {
     "data": {
      "image/png": "[encoded data removed]",
      "text/plain": [
       "<Figure size 800x500 with 1 Axes>"
      ]
     },
     "metadata": {},
     "output_type": "display_data"
    }
   ],
   "source": [
    "\n",
    "plt.figure(figsize=[8, 5])\n",
    "plt.hist(df_loaded[\"P_Disk\"], bins=100, density=True, alpha = 0.9, histtype='step', label = \"Disk\")\n",
    "plt.hist(df_loaded[\"P_Irr\"], bins=100, density=True, alpha = 0.9,histtype='step', label = \"Irr\")\n",
    "plt.hist(df_loaded[\"P_Spheroid\"], bins=100, density=True, alpha = 0.9, histtype='step', label = \"Sph\")\n",
    "plt.yscale('log')\n",
    "plt.xlabel(\"Probability\")\n",
    "plt.ylabel(\"pdf\")\n",
    "plt.legend()\n",
    "plt.show()\n"
   ]
  },
  {
   "cell_type": "code",
   "execution_count": 4,
   "id": "9f7af175",
   "metadata": {},
   "outputs": [],
   "source": [
    "import galmorph.core as gm\n"
   ]
  },
  {
   "cell_type": "code",
   "execution_count": 5,
   "id": "6223ceae",
   "metadata": {},
   "outputs": [
    {
     "data": {
      "image/png": "[encoded data removed]",
      "text/plain": [
       "<Figure size 600x500 with 1 Axes>"
      ]
     },
     "metadata": {},
     "output_type": "display_data"
    }
   ],
   "source": [
    "Galsim = gm.GalMorph(file_path=\"data/morphologies_snapshot_data.pkl\")\n",
    "Galsim.Galaxy_count(file_name=\"test1.png\")\n"
   ]
  },
  {
   "cell_type": "code",
   "execution_count": null,
   "id": "3a6d4efd",
   "metadata": {},
   "outputs": [
    {
     "data": {
      "image/png": "[encoded data removed]",
      "text/plain": [
       "<Figure size 640x480 with 1 Axes>"
      ]
     },
     "metadata": {},
     "output_type": "display_data"
    }
   ],
   "source": [
    "import matplotlib.pyplot as plt\n",
    "\n",
    "fig, ax = plt.subplots()\n",
    "categories = [\"A\", \"B\", \"C\", \"D\"]\n",
    "values = [10, 20, 30, 40]\n",
    "\n",
    "# Create the bars and store the BarContainer object\n",
    "bars = ax.bar(categories, values, color='skyblue')\n",
    "\n",
    "# Add labels to the bars\n",
    "ax.bar_label(bars, label_type='edge', padding=3, color='black', fontsize=10)\n",
    "\n",
    "ax.set_xlabel(\"Category\")\n",
    "ax.set_ylabel(\"Value\")\n",
    "ax.set_title(\"Bar Chart with Values Displayed\")\n",
    "plt.show()\n"
   ]
  },
  {
   "cell_type": "code",
   "execution_count": null,
   "id": "e8a8e826",
   "metadata": {},
   "outputs": [],
   "source": []
  }
 ],
 "metadata": {
  "kernelspec": {
   "display_name": "codeastro",
   "language": "python",
   "name": "python3"
  },
  "language_info": {
   "codemirror_mode": {
    "name": "ipython",
    "version": 3
   },
   "file_extension": ".py",
   "mimetype": "text/x-python",
   "name": "python",
   "nbconvert_exporter": "python",
   "pygments_lexer": "ipython3",
   "version": "3.10.18"
  }
 },
 "nbformat": 4,
 "nbformat_minor": 5
}
